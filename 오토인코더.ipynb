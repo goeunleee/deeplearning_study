{
  "nbformat": 4,
  "nbformat_minor": 0,
  "metadata": {
    "colab": {
      "name": "오토인코더.ipynb",
      "provenance": [],
      "collapsed_sections": [],
      "authorship_tag": "ABX9TyP1v79K/JgEsV4ILmoXxLAX",
      "include_colab_link": true
    },
    "kernelspec": {
      "name": "python3",
      "display_name": "Python 3"
    }
  },
  "cells": [
    {
      "cell_type": "markdown",
      "metadata": {
        "id": "view-in-github",
        "colab_type": "text"
      },
      "source": [
        "<a href=\"https://colab.research.google.com/github/goeunleee/deeplearning_study/blob/master/%EC%98%A4%ED%86%A0%EC%9D%B8%EC%BD%94%EB%8D%94.ipynb\" target=\"_parent\"><img src=\"https://colab.research.google.com/assets/colab-badge.svg\" alt=\"Open In Colab\"/></a>"
      ]
    },
    {
      "cell_type": "code",
      "metadata": {
        "id": "A5XcyZu7msog",
        "colab_type": "code",
        "colab": {
          "base_uri": "https://localhost:8080/",
          "height": 52
        },
        "outputId": "ae8eb4a0-5b4b-4dd8-9bfb-a0b0207c5277"
      },
      "source": [
        "#비지도학습 \n",
        "import tensorflow as tf\n",
        "(train_X, train_Y), (test_X, test_Y) = tf.keras.datasets.mnist.load_data()\n",
        "\n",
        "train_X = train_X / 255.0\n",
        "test_X = test_X / 255.0\n"
      ],
      "execution_count": 1,
      "outputs": [
        {
          "output_type": "stream",
          "text": [
            "Downloading data from https://storage.googleapis.com/tensorflow/tf-keras-datasets/mnist.npz\n",
            "11493376/11490434 [==============================] - 0s 0us/step\n"
          ],
          "name": "stdout"
        }
      ]
    },
    {
      "cell_type": "code",
      "metadata": {
        "id": "7LQTAhBGmwvD",
        "colab_type": "code",
        "colab": {
          "base_uri": "https://localhost:8080/",
          "height": 35
        },
        "outputId": "d9d46f4a-a207-4f0d-f20b-7d879717ad52"
      },
      "source": [
        "from sklearn.decomposition import PCA\n",
        "\n",
        "# sklearn은 이미지를 학습시킬때 (전체개수, 특성수)\n",
        "train1 = train_X.reshape(-1, 28*28)\n",
        "test1  = test_X.reshape(-1, 28*28)\n",
        "\n",
        "pca = PCA(32) #차원축소로 이미지 흐릿하게 \n",
        "pca.fit(train1)\n",
        "train_pca = pca.transform(train1)\n",
        "test_pca = pca.transform(test1)\n",
        "pred1 = pca.inverse_transform(test_pca)\n",
        "pred1.shape\n"
      ],
      "execution_count": 2,
      "outputs": [
        {
          "output_type": "execute_result",
          "data": {
            "text/plain": [
              "(10000, 784)"
            ]
          },
          "metadata": {
            "tags": []
          },
          "execution_count": 2
        }
      ]
    },
    {
      "cell_type": "code",
      "metadata": {
        "id": "jzmjZuc6mzjn",
        "colab_type": "code",
        "colab": {
          "base_uri": "https://localhost:8080/",
          "height": 164
        },
        "outputId": "747d0315-3d65-49b1-bdf0-9995efef3402"
      },
      "source": [
        "\n",
        "import matplotlib.pyplot as plt\n",
        "\n",
        "plt.figure(figsize=(20,4))\n",
        "for i in range(10):\n",
        "  plt.subplot(2,10, (i+1))\n",
        "  plt.imshow(test_X[i])\n",
        "  plt.axis('off')\n",
        "  plt.gray()\n",
        "  \n",
        "  plt.subplot(2, 10, (i+1+10))\n",
        "  plt.imshow(pred1[i].reshape(28,28))\n",
        "  plt.axis('off')\n",
        "  plt.gray()\n"
      ],
      "execution_count": 3,
      "outputs": [
        {
          "output_type": "display_data",
          "data": {
            "image/png": "[encoded data removed]",
            "text/plain": [
              "<Figure size 1440x288 with 20 Axes>"
            ]
          },
          "metadata": {
            "tags": [],
            "needs_background": "light"
          }
        }
      ]
    },
    {
      "cell_type": "code",
      "metadata": {
        "id": "F7pn_aOhm54x",
        "colab_type": "code",
        "colab": {}
      },
      "source": [
        "train_X = train_X.reshape(-1, 28*28)  \n"
      ],
      "execution_count": 4,
      "outputs": []
    },
    {
      "cell_type": "code",
      "metadata": {
        "id": "_WOUYcSjm7OT",
        "colab_type": "code",
        "colab": {
          "base_uri": "https://localhost:8080/",
          "height": 266
        },
        "outputId": "5786bb20-26b7-4813-ec1d-b951ca3a0d9b"
      },
      "source": [
        "model = tf.keras.Sequential([\n",
        "  tf.keras.layers.Dense(784, activation=\"relu\", input_shape=(784,)),\n",
        "  tf.keras.layers.Dense(64, activation=\"relu\"),\n",
        "  tf.keras.layers.Dense(784, activation=\"sigmoid\")\n",
        "])\n",
        "model.compile(optimizer=\"adam\", loss=\"mse\", metrics=['accuracy'])\n",
        "model.summary()"
      ],
      "execution_count": 5,
      "outputs": [
        {
          "output_type": "stream",
          "text": [
            "Model: \"sequential\"\n",
            "_________________________________________________________________\n",
            "Layer (type)                 Output Shape              Param #   \n",
            "=================================================================\n",
            "dense (Dense)                (None, 784)               615440    \n",
            "_________________________________________________________________\n",
            "dense_1 (Dense)              (None, 64)                50240     \n",
            "_________________________________________________________________\n",
            "dense_2 (Dense)              (None, 784)               50960     \n",
            "=================================================================\n",
            "Total params: 716,640\n",
            "Trainable params: 716,640\n",
            "Non-trainable params: 0\n",
            "_________________________________________________________________\n"
          ],
          "name": "stdout"
        }
      ]
    },
    {
      "cell_type": "code",
      "metadata": {
        "id": "L0ScpzJvm8r_",
        "colab_type": "code",
        "colab": {
          "base_uri": "https://localhost:8080/",
          "height": 390
        },
        "outputId": "8de06555-8f31-46ee-e8c2-fad9c512b60f"
      },
      "source": [
        "model.fit(train_X, train_X, epochs=10, batch_size=256) #x 에서 x 구함 "
      ],
      "execution_count": 6,
      "outputs": [
        {
          "output_type": "stream",
          "text": [
            "Epoch 1/10\n",
            "235/235 [==============================] - 5s 22ms/step - loss: 0.0507 - accuracy: 0.0091\n",
            "Epoch 2/10\n",
            "235/235 [==============================] - 5s 22ms/step - loss: 0.0171 - accuracy: 0.0114\n",
            "Epoch 3/10\n",
            "235/235 [==============================] - 5s 22ms/step - loss: 0.0121 - accuracy: 0.0115\n",
            "Epoch 4/10\n",
            "235/235 [==============================] - 5s 21ms/step - loss: 0.0102 - accuracy: 0.0119\n",
            "Epoch 5/10\n",
            "235/235 [==============================] - 5s 21ms/step - loss: 0.0090 - accuracy: 0.0119\n",
            "Epoch 6/10\n",
            "235/235 [==============================] - 5s 21ms/step - loss: 0.0082 - accuracy: 0.0132\n",
            "Epoch 7/10\n",
            "235/235 [==============================] - 5s 21ms/step - loss: 0.0077 - accuracy: 0.0126\n",
            "Epoch 8/10\n",
            "235/235 [==============================] - 5s 21ms/step - loss: 0.0073 - accuracy: 0.0129\n",
            "Epoch 9/10\n",
            "235/235 [==============================] - 5s 21ms/step - loss: 0.0069 - accuracy: 0.0130\n",
            "Epoch 10/10\n",
            "235/235 [==============================] - 5s 21ms/step - loss: 0.0066 - accuracy: 0.0135\n"
          ],
          "name": "stdout"
        },
        {
          "output_type": "execute_result",
          "data": {
            "text/plain": [
              "<tensorflow.python.keras.callbacks.History at 0x7ff7a2044a58>"
            ]
          },
          "metadata": {
            "tags": []
          },
          "execution_count": 6
        }
      ]
    },
    {
      "cell_type": "code",
      "metadata": {
        "id": "6rhAtxMim9-W",
        "colab_type": "code",
        "colab": {}
      },
      "source": [
        "test_X = test_X.reshape(-1, 28*28)\n",
        "pred2 = model.predict(test_X)"
      ],
      "execution_count": 7,
      "outputs": []
    },
    {
      "cell_type": "code",
      "metadata": {
        "id": "D6u4NYJ9naRQ",
        "colab_type": "code",
        "colab": {
          "base_uri": "https://localhost:8080/",
          "height": 164
        },
        "outputId": "44381bf3-1e80-4610-ff03-ffc114859a16"
      },
      "source": [
        "# test_X와 pred2이미지를 10개씩 출력하세요.\n",
        "import matplotlib.pyplot as plt\n",
        "\n",
        "plt.figure(figsize=(20,4))\n",
        "for i in range(10):\n",
        "  plt.subplot(2, 10, (i+1))\n",
        "  plt.imshow(test_X[i].reshape(28,28))\n",
        "  plt.axis('off')\n",
        "  plt.gray()\n",
        "\n",
        "  plt.subplot(2, 10, (i+1+10))\n",
        "  plt.imshow(pred2[i].reshape(28, 28))\n",
        "  plt.axis('off')\n",
        "  plt.gray()\n",
        "  #loss 낮아질수록 이미지가 원본에 가깝게 선명해짐"
      ],
      "execution_count": 8,
      "outputs": [
        {
          "output_type": "display_data",
          "data": {
            "image/png": "[encoded data removed]",
            "text/plain": [
              "<Figure size 1440x288 with 20 Axes>"
            ]
          },
          "metadata": {
            "tags": [],
            "needs_background": "light"
          }
        }
      ]
    },
    {
      "cell_type": "code",
      "metadata": {
        "id": "ldj-91wnnblM",
        "colab_type": "code",
        "colab": {
          "base_uri": "https://localhost:8080/",
          "height": 444
        },
        "outputId": "5a7ac364-1afd-4705-b3fb-fe90b13efa01"
      },
      "source": [
        "#CNN 사용하기 (개수, 이미지크기, 이미지크기, 채널)\n",
        "train_X = train_X.reshape(-1, 28, 28, 1)\n",
        "test_X  = test_X.reshape(-1, 28, 28, 1)\n",
        "\n",
        "model = tf.keras.Sequential([\n",
        "    #인코딩                         \n",
        "    tf.keras.layers.Conv2D(filters=32, kernel_size=(2,2), \n",
        "                           strides=(2,2), activation=\"relu\", input_shape=(28,28,1)),\n",
        "    tf.keras.layers.Conv2D(filters=64, kernel_size=(2,2), \n",
        "                           strides=(2,2), activation=\"relu\"),\n",
        "    tf.keras.layers.Flatten(),\n",
        "    tf.keras.layers.Dense(64, activation=\"relu\"),\n",
        "    #디코딩\n",
        "    tf.keras.layers.Dense(7 * 7 * 64,activation='relu'),\n",
        "    tf.keras.layers.Reshape(target_shape=(7, 7, 64)),\n",
        "    tf.keras.layers.Conv2DTranspose(filters=32, kernel_size=(2,2),\n",
        "                            strides=(2,2), activation=\"relu\", padding=\"same\"),    \n",
        "    tf.keras.layers.Conv2DTranspose(filters=1, kernel_size=(2,2),\n",
        "                            strides=(2,2), activation=\"relu\", padding=\"same\")\n",
        "])\n",
        "\n",
        "model.compile(optimizer=\"adam\", loss=\"mse\")\n",
        "model.summary()\n"
      ],
      "execution_count": 18,
      "outputs": [
        {
          "output_type": "stream",
          "text": [
            "Model: \"sequential_3\"\n",
            "_________________________________________________________________\n",
            "Layer (type)                 Output Shape              Param #   \n",
            "=================================================================\n",
            "conv2d_5 (Conv2D)            (None, 14, 14, 32)        160       \n",
            "_________________________________________________________________\n",
            "conv2d_6 (Conv2D)            (None, 7, 7, 64)          8256      \n",
            "_________________________________________________________________\n",
            "flatten_2 (Flatten)          (None, 3136)              0         \n",
            "_________________________________________________________________\n",
            "dense_7 (Dense)              (None, 64)                200768    \n",
            "_________________________________________________________________\n",
            "dense_8 (Dense)              (None, 3136)              203840    \n",
            "_________________________________________________________________\n",
            "reshape_2 (Reshape)          (None, 7, 7, 64)          0         \n",
            "_________________________________________________________________\n",
            "conv2d_transpose_4 (Conv2DTr (None, 14, 14, 32)        8224      \n",
            "_________________________________________________________________\n",
            "conv2d_transpose_5 (Conv2DTr (None, 28, 28, 1)         129       \n",
            "=================================================================\n",
            "Total params: 421,377\n",
            "Trainable params: 421,377\n",
            "Non-trainable params: 0\n",
            "_________________________________________________________________\n"
          ],
          "name": "stdout"
        }
      ]
    },
    {
      "cell_type": "code",
      "metadata": {
        "id": "09fw7FQrqh5G",
        "colab_type": "code",
        "colab": {
          "base_uri": "https://localhost:8080/",
          "height": 390
        },
        "outputId": "0d94cdf4-5693-4bc4-cb59-a57454c23173"
      },
      "source": [
        "# 모델 학습\n",
        "model.fit(train_X, train_X, epochs=10, batch_size=256)\n"
      ],
      "execution_count": 12,
      "outputs": [
        {
          "output_type": "stream",
          "text": [
            "Epoch 1/10\n",
            "235/235 [==============================] - 20s 84ms/step - loss: 0.0353\n",
            "Epoch 2/10\n",
            "235/235 [==============================] - 20s 85ms/step - loss: 0.0080\n",
            "Epoch 3/10\n",
            "235/235 [==============================] - 20s 85ms/step - loss: 0.0055\n",
            "Epoch 4/10\n",
            "235/235 [==============================] - 20s 84ms/step - loss: 0.0045\n",
            "Epoch 5/10\n",
            "235/235 [==============================] - 20s 84ms/step - loss: 0.0040\n",
            "Epoch 6/10\n",
            "235/235 [==============================] - 20s 84ms/step - loss: 0.0037\n",
            "Epoch 7/10\n",
            "235/235 [==============================] - 20s 84ms/step - loss: 0.0035\n",
            "Epoch 8/10\n",
            "235/235 [==============================] - 20s 84ms/step - loss: 0.0033\n",
            "Epoch 9/10\n",
            "235/235 [==============================] - 20s 84ms/step - loss: 0.0032\n",
            "Epoch 10/10\n",
            "235/235 [==============================] - 20s 84ms/step - loss: 0.0031\n"
          ],
          "name": "stdout"
        },
        {
          "output_type": "execute_result",
          "data": {
            "text/plain": [
              "<tensorflow.python.keras.callbacks.History at 0x7ff797427cc0>"
            ]
          },
          "metadata": {
            "tags": []
          },
          "execution_count": 12
        }
      ]
    },
    {
      "cell_type": "code",
      "metadata": {
        "id": "RRWeDWmeseJ4",
        "colab_type": "code",
        "colab": {
          "base_uri": "https://localhost:8080/",
          "height": 164
        },
        "outputId": "21a60e6f-75da-4ab7-d77f-ffd4db6406f4"
      },
      "source": [
        "# 예측치 확인\n",
        "pred3 = model.predict(test_X)\n",
        "\n",
        "\n",
        "# 결과 출력\n",
        "# test_X와 pred3이미지를 10개씩 출력하세요.\n",
        "import matplotlib.pyplot as plt\n",
        "\n",
        "plt.figure(figsize=(20,4))\n",
        "for i in range(10):\n",
        "  plt.subplot(2, 10, (i+1))\n",
        "  plt.imshow(test_X[i].reshape(28,28))\n",
        "  plt.axis('off')\n",
        "  plt.gray()\n",
        "\n",
        "  plt.subplot(2, 10, (i+1+10))\n",
        "  plt.imshow(pred2[i].reshape(28, 28))\n",
        "  plt.axis('off')\n",
        "  plt.gray()\n",
        "  "
      ],
      "execution_count": 13,
      "outputs": [
        {
          "output_type": "display_data",
          "data": {
            "image/png": "[encoded data removed]",
            "text/plain": [
              "<Figure size 1440x288 with 20 Axes>"
            ]
          },
          "metadata": {
            "tags": [],
            "needs_background": "light"
          }
        }
      ]
    },
    {
      "cell_type": "code",
      "metadata": {
        "id": "mc3QW54CshVr",
        "colab_type": "code",
        "colab": {
          "base_uri": "https://localhost:8080/",
          "height": 265
        },
        "outputId": "fd33f5f5-5e83-4d77-fb78-179f3acebe6f"
      },
      "source": [
        "# 오토인코더 활성화 함수\n",
        "import math\n",
        "import numpy as np\n",
        "\n",
        "x = np.arange(-5, 5, 0.01)\n",
        "relu = [0 if z < 0 else z for z in x]\n",
        "elu = [1.0 * (np.exp(z) - 1) if z < 0 else z for z in x]\n",
        "\n",
        "# plt.axhline(0, color='gray')\n",
        "plt.axvline(0, color='gray')\n",
        "plt.plot(x, relu, 'r--', label='relu')\n",
        "plt.plot(x, elu, 'g-', label='elu')\n",
        "plt.legend()\n",
        "plt.show()\n",
        "\n"
      ],
      "execution_count": 16,
      "outputs": [
        {
          "output_type": "display_data",
          "data": {
            "image/png": "[encoded data removed]",
            "text/plain": [
              "<Figure size 432x288 with 1 Axes>"
            ]
          },
          "metadata": {
            "tags": [],
            "needs_background": "light"
          }
        }
      ]
    },
    {
      "cell_type": "code",
      "metadata": {
        "id": "8kWpWAiHthma",
        "colab_type": "code",
        "colab": {
          "base_uri": "https://localhost:8080/",
          "height": 52
        },
        "outputId": "44009e2d-4786-4535-be3b-91e5db3a5fe2"
      },
      "source": [
        "model.evaluate(test_X, test_X, verbose=2)"
      ],
      "execution_count": 17,
      "outputs": [
        {
          "output_type": "stream",
          "text": [
            "313/313 - 2s - loss: 0.0030\n"
          ],
          "name": "stdout"
        },
        {
          "output_type": "execute_result",
          "data": {
            "text/plain": [
              "0.003048127284273505"
            ]
          },
          "metadata": {
            "tags": []
          },
          "execution_count": 17
        }
      ]
    },
    {
      "cell_type": "code",
      "metadata": {
        "id": "Y7CTkSdzwHMg",
        "colab_type": "code",
        "colab": {
          "base_uri": "https://localhost:8080/",
          "height": 444
        },
        "outputId": "cb35b45c-c384-457d-acf5-fca529cc1d07"
      },
      "source": [
        "train_X = train_X.reshape(-1, 28, 28, 1)\n",
        "test_X = test_X.reshape(-1, 28, 28, 1)\n",
        "\n",
        "model = tf.keras.Sequential([\n",
        "    tf.keras.layers.Conv2D(filters=32, kernel_size=2, strides=(2,2), activation='relu', input_shape=(28, 28, 1)),\n",
        "    tf.keras.layers.Conv2D(filters=64, kernel_size=2, strides=(2,2), activation='relu'),\n",
        "    tf.keras.layers.Flatten(),\n",
        "    tf.keras.layers.Dense(64, activation='relu'),\n",
        "    tf.keras.layers.Dense(7*7*64, activation='relu'),\n",
        "    tf.keras.layers.Reshape(target_shape=(7,7,64)),\n",
        "    tf.keras.layers.Conv2DTranspose(filters=32, kernel_size=2, strides=(2,2), padding='same', activation='relu'),\n",
        "    tf.keras.layers.Conv2DTranspose(filters=1, kernel_size=2, strides=(2,2), padding='same', activation='sigmoid')\n",
        "])\n",
        "\n",
        "model.compile(optimizer=tf.optimizers.Adam(), loss='mse')\n",
        "model.summary()\n"
      ],
      "execution_count": 19,
      "outputs": [
        {
          "output_type": "stream",
          "text": [
            "Model: \"sequential_4\"\n",
            "_________________________________________________________________\n",
            "Layer (type)                 Output Shape              Param #   \n",
            "=================================================================\n",
            "conv2d_7 (Conv2D)            (None, 14, 14, 32)        160       \n",
            "_________________________________________________________________\n",
            "conv2d_8 (Conv2D)            (None, 7, 7, 64)          8256      \n",
            "_________________________________________________________________\n",
            "flatten_3 (Flatten)          (None, 3136)              0         \n",
            "_________________________________________________________________\n",
            "dense_9 (Dense)              (None, 64)                200768    \n",
            "_________________________________________________________________\n",
            "dense_10 (Dense)             (None, 3136)              203840    \n",
            "_________________________________________________________________\n",
            "reshape_3 (Reshape)          (None, 7, 7, 64)          0         \n",
            "_________________________________________________________________\n",
            "conv2d_transpose_6 (Conv2DTr (None, 14, 14, 32)        8224      \n",
            "_________________________________________________________________\n",
            "conv2d_transpose_7 (Conv2DTr (None, 28, 28, 1)         129       \n",
            "=================================================================\n",
            "Total params: 421,377\n",
            "Trainable params: 421,377\n",
            "Non-trainable params: 0\n",
            "_________________________________________________________________\n"
          ],
          "name": "stdout"
        }
      ]
    },
    {
      "cell_type": "code",
      "metadata": {
        "id": "vKI2qtN6En9b",
        "colab_type": "code",
        "colab": {
          "base_uri": "https://localhost:8080/",
          "height": 212
        },
        "outputId": "c82fbc51-d67b-4418-c14b-4d4bef47c876"
      },
      "source": [
        "model.fit(train_X, train_X, epochs=5, batch_size=256)"
      ],
      "execution_count": 20,
      "outputs": [
        {
          "output_type": "stream",
          "text": [
            "Epoch 1/5\n",
            "235/235 [==============================] - 20s 86ms/step - loss: 0.0744\n",
            "Epoch 2/5\n",
            "235/235 [==============================] - 20s 85ms/step - loss: 0.0298\n",
            "Epoch 3/5\n",
            "235/235 [==============================] - 20s 85ms/step - loss: 0.0240\n",
            "Epoch 4/5\n",
            "235/235 [==============================] - 20s 85ms/step - loss: 0.0219\n",
            "Epoch 5/5\n",
            "235/235 [==============================] - 20s 85ms/step - loss: 0.0210\n"
          ],
          "name": "stdout"
        },
        {
          "output_type": "execute_result",
          "data": {
            "text/plain": [
              "<tensorflow.python.keras.callbacks.History at 0x7ff7940b77f0>"
            ]
          },
          "metadata": {
            "tags": []
          },
          "execution_count": 20
        }
      ]
    },
    {
      "cell_type": "code",
      "metadata": {
        "id": "vz1YBtmfEqRg",
        "colab_type": "code",
        "colab": {
          "base_uri": "https://localhost:8080/",
          "height": 390
        },
        "outputId": "d027fd62-77e5-4264-e276-fa55b775d3d5"
      },
      "source": [
        "# 엔코딩 부분만 가져오기\n",
        "model1 = tf.keras.Model(inputs=model.input, outputs=model.layers[3].output)\n",
        "\n",
        "# 참고 : 층을 추가할 경우\n",
        "output = tf.keras.layers.Dense(10, activation='elu')(model.layers[3].output)\n",
        "model2 = tf.keras.Model(inputs=model.input, outputs=output)\n",
        "model2.summary()\n",
        "\n",
        "\n",
        "# 예측값 확인\n",
        "pred4 = model1.predict( train_X )\n",
        "pred4.shape\n"
      ],
      "execution_count": 21,
      "outputs": [
        {
          "output_type": "stream",
          "text": [
            "Model: \"functional_3\"\n",
            "_________________________________________________________________\n",
            "Layer (type)                 Output Shape              Param #   \n",
            "=================================================================\n",
            "conv2d_7_input (InputLayer)  [(None, 28, 28, 1)]       0         \n",
            "_________________________________________________________________\n",
            "conv2d_7 (Conv2D)            (None, 14, 14, 32)        160       \n",
            "_________________________________________________________________\n",
            "conv2d_8 (Conv2D)            (None, 7, 7, 64)          8256      \n",
            "_________________________________________________________________\n",
            "flatten_3 (Flatten)          (None, 3136)              0         \n",
            "_________________________________________________________________\n",
            "dense_9 (Dense)              (None, 64)                200768    \n",
            "_________________________________________________________________\n",
            "dense_11 (Dense)             (None, 10)                650       \n",
            "=================================================================\n",
            "Total params: 209,834\n",
            "Trainable params: 209,834\n",
            "Non-trainable params: 0\n",
            "_________________________________________________________________\n"
          ],
          "name": "stdout"
        },
        {
          "output_type": "execute_result",
          "data": {
            "text/plain": [
              "(60000, 64)"
            ]
          },
          "metadata": {
            "tags": []
          },
          "execution_count": 21
        }
      ]
    },
    {
      "cell_type": "code",
      "metadata": {
        "id": "9cK1kuODEsKA",
        "colab_type": "code",
        "colab": {
          "base_uri": "https://localhost:8080/",
          "height": 70
        },
        "outputId": "1b9e7c14-13ba-4bd2-80c9-3583d14b5072"
      },
      "source": [
        "from sklearn.cluster import KMeans\n",
        "\n",
        "kmeans = KMeans(n_clusters=10, n_init=30, random_state=42)\n",
        "kmeans.fit(pred4) # 예측값을 KMeans에 적용 \n",
        "# 60000개의 데이터를 10개의 그룹으로 분류함."
      ],
      "execution_count": 22,
      "outputs": [
        {
          "output_type": "execute_result",
          "data": {
            "text/plain": [
              "KMeans(algorithm='auto', copy_x=True, init='k-means++', max_iter=300,\n",
              "       n_clusters=10, n_init=30, n_jobs=None, precompute_distances='auto',\n",
              "       random_state=42, tol=0.0001, verbose=0)"
            ]
          },
          "metadata": {
            "tags": []
          },
          "execution_count": 22
        }
      ]
    },
    {
      "cell_type": "code",
      "metadata": {
        "id": "fdPz1I7lEtps",
        "colab_type": "code",
        "colab": {
          "base_uri": "https://localhost:8080/",
          "height": 35
        },
        "outputId": "37bcfc08-5027-462a-ecbf-bfa4d8c20785"
      },
      "source": [
        "kmeans.labels_"
      ],
      "execution_count": 24,
      "outputs": [
        {
          "output_type": "execute_result",
          "data": {
            "text/plain": [
              "array([4, 6, 7, ..., 4, 7, 7], dtype=int32)"
            ]
          },
          "metadata": {
            "tags": []
          },
          "execution_count": 24
        }
      ]
    },
    {
      "cell_type": "code",
      "metadata": {
        "id": "VmKv1GDJF8ng",
        "colab_type": "code",
        "colab": {
          "base_uri": "https://localhost:8080/",
          "height": 59
        },
        "outputId": "de6f94f7-f99b-4fe9-dd3d-ec63e8198260"
      },
      "source": [
        "import matplotlib.pyplot as plt\n",
        "\n",
        "labels = kmeans.labels_\n",
        "plt.figure(figsize=(12,12))\n",
        "\n",
        "k = 0\n",
        "for i in range(60000):\n",
        "  if labels[i] == 0:\n",
        "    k = k + 1\n",
        "    \n",
        "    plt.subplot(1, 20, k)\n",
        "    plt.imshow( train_X[i].reshape(28,28) )\n",
        "    plt.axis('off')\n",
        "    \n",
        "    if k>= 20:\n",
        "      break\n",
        "  "
      ],
      "execution_count": 25,
      "outputs": [
        {
          "output_type": "display_data",
          "data": {
            "image/png": "[encoded data removed]",
            "text/plain": [
              "<Figure size 864x864 with 20 Axes>"
            ]
          },
          "metadata": {
            "tags": [],
            "needs_background": "light"
          }
        }
      ]
    },
    {
      "cell_type": "code",
      "metadata": {
        "id": "1LDmSKCpF9Nk",
        "colab_type": "code",
        "colab": {}
      },
      "source": [
        ""
      ],
      "execution_count": null,
      "outputs": []
    }
  ]
}