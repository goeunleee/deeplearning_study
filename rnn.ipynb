{
  "nbformat": 4,
  "nbformat_minor": 0,
  "metadata": {
    "colab": {
      "name": "rnn.ipynb",
      "provenance": [],
      "collapsed_sections": [],
      "authorship_tag": "ABX9TyP7BzW/LPL9t1JS4XrEtSBP",
      "include_colab_link": true
    },
    "kernelspec": {
      "name": "python3",
      "display_name": "Python 3"
    }
  },
  "cells": [
    {
      "cell_type": "markdown",
      "metadata": {
        "id": "view-in-github",
        "colab_type": "text"
      },
      "source": [
        "<a href=\"https://colab.research.google.com/github/goeunleee/deeplearning_study/blob/master/rnn.ipynb\" target=\"_parent\"><img src=\"https://colab.research.google.com/assets/colab-badge.svg\" alt=\"Open In Colab\"/></a>"
      ]
    },
    {
      "cell_type": "code",
      "metadata": {
        "id": "0fLpXBZxrE20",
        "colab_type": "code",
        "colab": {
          "base_uri": "https://localhost:8080/",
          "height": 34
        },
        "outputId": "98eb2855-2b96-4866-9d45-476747076b35"
      },
      "source": [
        "import numpy as np\n",
        "\n",
        "X = [] ; Y = []\n",
        "\n",
        "# [ 0.0 , 0.1, 0.2  0.3]  => [ [],[],[],[]]\n",
        "for i in range(6):\n",
        "  lst = np.array ( range(i, i+4) ) / 10.0\n",
        "  lst = lst.reshape((-1, 1))\n",
        "  X.append(lst)\n",
        "  Y.append( (i+4) / 10.0 )\n",
        "\n",
        "X = np.array(X)  # list to numpy array\n",
        "Y = np.array(Y)\n",
        "print(X.shape, Y.shape) \n",
        "\n",
        "\n"
      ],
      "execution_count": null,
      "outputs": [
        {
          "output_type": "stream",
          "text": [
            "(6, 4, 1) (6,)\n"
          ],
          "name": "stdout"
        }
      ]
    },
    {
      "cell_type": "code",
      "metadata": {
        "id": "syOzmYnXrJ2g",
        "colab_type": "code",
        "colab": {
          "base_uri": "https://localhost:8080/",
          "height": 34
        },
        "outputId": "f1263cef-ec92-4eec-dd5c-7e28ff1d9112"
      },
      "source": [
        "##----------------------------\n",
        "import tensorflow as tf\n",
        "\n",
        "rnn1 = tf.keras.layers.SimpleRNN(units=10, activation=\"tanh\", dtype=\"float64\", \n",
        "                          return_sequences=False, input_shape=(4,1))(X)\n",
        "\n",
        "rnn1.shape\n",
        "\n"
      ],
      "execution_count": null,
      "outputs": [
        {
          "output_type": "execute_result",
          "data": {
            "text/plain": [
              "TensorShape([6, 10])"
            ]
          },
          "metadata": {
            "tags": []
          },
          "execution_count": 4
        }
      ]
    },
    {
      "cell_type": "code",
      "metadata": {
        "id": "nqyhjLIIrS6j",
        "colab_type": "code",
        "colab": {
          "base_uri": "https://localhost:8080/",
          "height": 140
        },
        "outputId": "4f087d95-78f1-4e10-a0e7-e306c39ff4ef"
      },
      "source": [
        "##---------------------------\n",
        "den1 = tf.keras.layers.Dense(units=1, dtype=\"float64\")(rnn1)\n",
        "den1.shape\n",
        "den1\n",
        "\n"
      ],
      "execution_count": null,
      "outputs": [
        {
          "output_type": "execute_result",
          "data": {
            "text/plain": [
              "<tf.Tensor: shape=(6, 1), dtype=float64, numpy=\n",
              "array([[-0.00936892],\n",
              "       [ 0.08409774],\n",
              "       [ 0.16119414],\n",
              "       [ 0.21966347],\n",
              "       [ 0.26024956],\n",
              "       [ 0.28503646]])>"
            ]
          },
          "metadata": {
            "tags": []
          },
          "execution_count": 5
        }
      ]
    },
    {
      "cell_type": "code",
      "metadata": {
        "id": "L4Vv7bPzrXOr",
        "colab_type": "code",
        "colab": {
          "base_uri": "https://localhost:8080/",
          "height": 246
        },
        "outputId": "e5b38570-249e-4653-a532-043189b748bb"
      },
      "source": [
        "\n",
        "\n",
        "model = tf.keras.Sequential([\n",
        "     tf.keras.layers.SimpleRNN(units=10, activation=\"tanh\", dtype=\"float64\", return_sequences=False, input_shape=(4,1)),\n",
        "     tf.keras.layers.Dense(units=1, dtype=\"float64\")                        \n",
        "])\n",
        "\n",
        "model.compile(optimizer=\"adam\", loss=\"mse\")\n",
        "model.summary()\n",
        "\n",
        "\n",
        "history = model.fit(X, Y, epochs=200, verbose=0)\n",
        "\n",
        "\n",
        "pred1 = [[[0.9],[1.0],[1.1],[1.2]]]    #(1,4,1)  0.9 1.0 1.2 1.3  =>  ??\n",
        "model.predict( pred1 )\n",
        "\n",
        "\n"
      ],
      "execution_count": null,
      "outputs": [
        {
          "output_type": "stream",
          "text": [
            "Model: \"sequential\"\n",
            "_________________________________________________________________\n",
            "Layer (type)                 Output Shape              Param #   \n",
            "=================================================================\n",
            "simple_rnn_2 (SimpleRNN)     (None, 10)                120       \n",
            "_________________________________________________________________\n",
            "dense_1 (Dense)              (None, 1)                 11        \n",
            "=================================================================\n",
            "Total params: 131\n",
            "Trainable params: 131\n",
            "Non-trainable params: 0\n",
            "_________________________________________________________________\n"
          ],
          "name": "stdout"
        },
        {
          "output_type": "execute_result",
          "data": {
            "text/plain": [
              "array([[0.66472711]])"
            ]
          },
          "metadata": {
            "tags": []
          },
          "execution_count": 6
        }
      ]
    },
    {
      "cell_type": "code",
      "metadata": {
        "id": "gWghQVsSraen",
        "colab_type": "code",
        "colab": {
          "base_uri": "https://localhost:8080/",
          "height": 246
        },
        "outputId": "2818cfdd-6af0-4436-9ab3-c2eeafbd60b4"
      },
      "source": [
        "##--------------------------\n",
        "model = tf.keras.Sequential([\n",
        "     tf.keras.layers.LSTM(units=10, activation=\"tanh\", dtype=\"float64\", return_sequences=False, input_shape=(4,1)),\n",
        "     tf.keras.layers.Dense(units=1, dtype=\"float64\")                        \n",
        "])\n",
        "\n",
        "model.compile(optimizer=\"adam\", loss=\"mse\")\n",
        "model.summary()\n",
        "\n",
        "history = model.fit(X, Y, epochs=200, verbose=0)\n",
        "\n",
        "\n",
        "pred1 = [[[0.9],[1.0],[1.1],[1.2]]]    #(1,4,1)  0.9 1.0 1.2 1.3  =>  ??\n",
        "model.predict( pred1 )\n"
      ],
      "execution_count": null,
      "outputs": [
        {
          "output_type": "stream",
          "text": [
            "Model: \"sequential_1\"\n",
            "_________________________________________________________________\n",
            "Layer (type)                 Output Shape              Param #   \n",
            "=================================================================\n",
            "lstm (LSTM)                  (None, 10)                480       \n",
            "_________________________________________________________________\n",
            "dense_2 (Dense)              (None, 1)                 11        \n",
            "=================================================================\n",
            "Total params: 491\n",
            "Trainable params: 491\n",
            "Non-trainable params: 0\n",
            "_________________________________________________________________\n"
          ],
          "name": "stdout"
        },
        {
          "output_type": "execute_result",
          "data": {
            "text/plain": [
              "array([[1.06567329]])"
            ]
          },
          "metadata": {
            "tags": []
          },
          "execution_count": 7
        }
      ]
    },
    {
      "cell_type": "code",
      "metadata": {
        "id": "UMqi8QHPrcyh",
        "colab_type": "code",
        "colab": {
          "base_uri": "https://localhost:8080/",
          "height": 369
        },
        "outputId": "0d868d53-dace-4652-9f16-b5cc33877cca"
      },
      "source": [
        "##---------------------------\n",
        "import numpy as np\n",
        "\n",
        "# 100개의 랜덤 값 생성\n",
        "lst = np.random.rand(100)\n",
        "lst\n",
        "\n"
      ],
      "execution_count": null,
      "outputs": [
        {
          "output_type": "execute_result",
          "data": {
            "text/plain": [
              "array([0.57091358, 0.66343595, 0.48531229, 0.94375638, 0.6437681 ,\n",
              "       0.78645968, 0.24583193, 0.73844275, 0.79516669, 0.15369149,\n",
              "       0.478967  , 0.26304593, 0.48911845, 0.72031429, 0.57090325,\n",
              "       0.53579489, 0.01222372, 0.47256338, 0.86010732, 0.39391831,\n",
              "       0.86241133, 0.8633014 , 0.22148979, 0.86820397, 0.1224302 ,\n",
              "       0.95849061, 0.70103729, 0.82814074, 0.61113809, 0.57862357,\n",
              "       0.08633488, 0.85110379, 0.39047927, 0.39768266, 0.53552569,\n",
              "       0.94258018, 0.02657564, 0.28036893, 0.24724867, 0.84696808,\n",
              "       0.23404332, 0.32780866, 0.7761516 , 0.17040937, 0.63467983,\n",
              "       0.87514109, 0.77831423, 0.12483257, 0.53008543, 0.33028011,\n",
              "       0.80055142, 0.83070037, 0.47235318, 0.31881047, 0.29412284,\n",
              "       0.99003074, 0.08993369, 0.61078884, 0.3254343 , 0.29778292,\n",
              "       0.26207978, 0.81138844, 0.11076695, 0.03032261, 0.64915726,\n",
              "       0.05105303, 0.76262225, 0.31052181, 0.35528876, 0.37013562,\n",
              "       0.48511981, 0.80750518, 0.0814671 , 0.96725345, 0.03535401,\n",
              "       0.68447635, 0.95128025, 0.51233511, 0.73882188, 0.71836891,\n",
              "       0.32334454, 0.19666447, 0.13946532, 0.64420663, 0.94734264,\n",
              "       0.3537488 , 0.46959988, 0.00456594, 0.27004116, 0.74375751,\n",
              "       0.0496837 , 0.16589817, 0.68102777, 0.57010371, 0.7200176 ,\n",
              "       0.9997177 , 0.83108054, 0.60942594, 0.80209713, 0.48765763])"
            ]
          },
          "metadata": {
            "tags": []
          },
          "execution_count": 8
        }
      ]
    },
    {
      "cell_type": "code",
      "metadata": {
        "id": "HQ3lOXPxrfFl",
        "colab_type": "code",
        "colab": {
          "base_uri": "https://localhost:8080/",
          "height": 34
        },
        "outputId": "bd3e9dcb-d037-4fdd-bc4c-eb148134e2d5"
      },
      "source": [
        "##---------------------------\n",
        "# 숫자 2개 생성\n",
        "idx = np.random.choice(100, 2, replace=False) #중복되지 않는 2개의 숫자 뽑기\n",
        "idx\n",
        "\n"
      ],
      "execution_count": null,
      "outputs": [
        {
          "output_type": "execute_result",
          "data": {
            "text/plain": [
              "array([90, 96])"
            ]
          },
          "metadata": {
            "tags": []
          },
          "execution_count": 9
        }
      ]
    },
    {
      "cell_type": "code",
      "metadata": {
        "id": "RpH0AcsMrhC6",
        "colab_type": "code",
        "colab": {}
      },
      "source": [
        "##---------------------------\n",
        "zeros = np.zeros(100) \n",
        "zeros[idx] = 1 \n",
        "\n",
        "\n"
      ],
      "execution_count": null,
      "outputs": []
    },
    {
      "cell_type": "code",
      "metadata": {
        "id": "lw7ZdbD7rjmR",
        "colab_type": "code",
        "colab": {}
      },
      "source": [
        "##---------------------------\n",
        "#a = np.array([[1,2,3,4.....], [1,0,1,0....]])\n",
        "\n",
        "#b = np.prod(a, axis=0)\n",
        "#np.sum( b)\n",
        "\n"
      ],
      "execution_count": null,
      "outputs": []
    },
    {
      "cell_type": "code",
      "metadata": {
        "id": "F1cVEcJYrl4k",
        "colab_type": "code",
        "colab": {
          "base_uri": "https://localhost:8080/",
          "height": 35
        },
        "outputId": "2e7b3b3d-afb3-4ad5-cab2-d66406d607f4"
      },
      "source": [
        "##---------------------------\n",
        "#a= np.array([[1,0], [2,2], [].....[] ])\n",
        "#c = np.prod(a, axis=1)\n",
        "#c\n",
        "\n",
        "##---------------------------\n",
        "\n",
        "X = [] # 5000, 100, 2   [[0, 1.234343], [1,1.3434343],[],[]....]\n",
        "Y = [] # 5000           [1,322442, 2.42442, 4.2424242 .........]\n",
        "\n",
        "for i in range(5000):\n",
        "  lst = np.random.rand(100)  # 100개의 랜덤 숫자 구하기\n",
        "  idx = np.random.choice(100, 2, replace=False) # 중복되지 않는 2개의 정수 구하기\n",
        "\n",
        "  zeros = np.zeros(100)     # 0으로 채워진 100개의 array 생성\n",
        "  zeros[idx] = 1            # 2개만 1로 채우기\n",
        "\n",
        "  b = np.array( list(zip(zeros, lst) ) )           #배열 합치기\n",
        "  X.append(b)\n",
        "\n",
        "  c = np.prod( lst[idx] ) # idx가 1에 해당하는 것만 꺼내서 곱하기 [1, 0.2422424 * 1, 0.354353]] \n",
        "  Y.append(c)\n",
        "\n",
        "X = np.array(X)\n",
        "Y = np.array(Y)\n",
        "print(X.shape, Y.shape)"
      ],
      "execution_count": null,
      "outputs": [
        {
          "output_type": "stream",
          "text": [
            "(5000, 100, 2) (5000,)\n"
          ],
          "name": "stdout"
        }
      ]
    },
    {
      "cell_type": "code",
      "metadata": {
        "id": "jONI9Pcer3No",
        "colab_type": "code",
        "colab": {}
      },
      "source": [
        ""
      ],
      "execution_count": null,
      "outputs": []
    }
  ]
}